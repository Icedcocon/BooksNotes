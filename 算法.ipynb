{
 "cells": [
  {
   "cell_type": "code",
   "execution_count": null,
   "metadata": {},
   "outputs": [],
   "source": [
    "//最大子数组\n",
    "class Solution {\n",
    "public:\n",
    "    int maxSubArray(vector<int>& nums) {\n",
    "        return find(nums,0,nums.size()-1);\n",
    "    }\n",
    "\n",
    "    int find(vector<int>& nums,int start, int end){\n",
    "        //终止条件\n",
    "        if(start==end) return nums[start];\n",
    "        if(start>end) return INT_MIN;\n",
    "\n",
    "        //定义\n",
    "        int left_max=0, right_max=0, ml=0, mr=0;\n",
    "        int middle=(start+end)/2;\n",
    "\n",
    "        //找到左右侧最大值\n",
    "        left_max = find(nums,start,middle-1);\n",
    "        right_max = find(nums,middle+1,end);\n",
    "\n",
    "        //寻找跨越中间位置的最大值\n",
    "        for(int i = middle-1, sum=0; i>=start; --i){\n",
    "            sum+=nums[i];\n",
    "            if(ml<sum) ml=sum;\n",
    "        }\n",
    "        for(int i = middle+1, sum=0; i<=end; ++i){\n",
    "            sum+=nums[i];\n",
    "            if(mr<sum) mr=sum;\n",
    "        }\n",
    "        return max(max(left_max,right_max),ml+mr+nums[middle]);\n",
    "    }\n",
    "};"
   ]
  },
  {
   "cell_type": "code",
   "execution_count": null,
   "metadata": {},
   "outputs": [],
   "source": [
    "class Solution {\n",
    "public:\n",
    "    int maxSubArray(vector<int>& nums) {\n",
    "        if(nums.length==0) \n",
    "            return 0;\n",
    "        return FindMaxSubarray(nums,0,nums.size()-1);\n",
    "\n",
    "    }\n",
    "    int FindMaxSubarray(vector<int>& nums, int low, int high){\n",
    "        //base case\n",
    "        if(low == high)\n",
    "            return nums[low];\n",
    "    \n",
    "        //defination\n",
    "        int leftmax=0, rightmax=0;\n",
    "        int mid = (low+high)/2;\n",
    "    \n",
    "        //recursive case\n",
    "        leftmax = FindMaxSubarray(nums, low, mid);\n",
    "        rightmax = FindMaxSubarray(nums, mid+1, high);\n",
    "    \n",
    "        //combine\n",
    "        int left_sum=INT_MIN,right_sum=INT_MIN;\n",
    "        int sum = 0;\n",
    "        for(int i=mid; i>=0; i--){\n",
    "            sum += A[i];\n",
    "            if(sum>left_sum)\n",
    "                left_sum = sum;\n",
    "        }\n",
    "        sum = 0;\n",
    "        for(int i=mid+1; i<=high; i++){\n",
    "            sum += A[i];\n",
    "            if(sum>right_sum)\n",
    "                right_sum = sum;\n",
    "        }\n",
    "        int crossmax = left_sum+right_sum;\n",
    "        return max(crossmax,max(leftmax,rightmax));\n",
    "    }\n",
    "};"
   ]
  },
  {
   "cell_type": "code",
   "execution_count": null,
   "metadata": {},
   "outputs": [],
   "source": [
    "//直接插入排序\n",
    "class Solution {\n",
    "public:\n",
    "    void InsertSort(vector<int>& nums) {\n",
    "        int i,j,key;\n",
    "        for(int i=1; i<nums.size(); i++){  //依次将A[1]～A[n]插入前面已排序元素\n",
    "            key = nums[i];                 //将A[i]暂存到key\n",
    "            for(j=i-1; j>=0 && nums[j]>key; j--){//边比较边移动，查找待插入位置\n",
    "                nums[j+1] = nums[j];\n",
    "            }\n",
    "            nums[j+1]=key;\n",
    "        }\n",
    "    }\n",
    "};"
   ]
  },
  {
   "cell_type": "code",
   "execution_count": null,
   "metadata": {},
   "outputs": [],
   "source": [
    "class Solution {\n",
    "public:\n",
    "    void InsertSort(vector<int>& nums) {\n",
    "        for(int i=1; i<nums.size(); i++){\n",
    "            int key = nums[i];//保存第i个变量值\n",
    "            int j = i-1;//查找1到i-1\n",
    "            while(j>=0 && nums[j]>key){//逆序后移，相等跳出，保持稳定\n",
    "                nums[j+1]=nums[j];\n",
    "                j--;\n",
    "            }\n",
    "            nums[j+1]=key;\n",
    "        }\n",
    "    }\n",
    "};"
   ]
  },
  {
   "cell_type": "code",
   "execution_count": null,
   "metadata": {},
   "outputs": [],
   "source": [
    "//折半插入排序\n",
    "class Solution {\n",
    "public:\n",
    "    void InsertSort(vector<int>& nums) {\n",
    "        int i, j, low, high, mid, key;\n",
    "        for(i=1; i<nums.size(); i++){ //依次将A[1]～A[n]插入前面已排序元素\n",
    "            key = nums[i];            //将A[i]暂存到key\n",
    "            low=0; high=i-1;          //设置折半查找范围\n",
    "            while(low<=high){\n",
    "                mid = (low+high)/2;\n",
    "                if(nums[mid]>key) high = mid-1;\n",
    "                else low = mid+1;     //当mid==key时，让low=mid+1，实现稳定\n",
    "            }\n",
    "            for(j=i-1; j>=low; j--)\n",
    "                nums[j+1]=nums[j];    //统一后移一位，空出插入位置\n",
    "            nums[j+1]=key;\n",
    "        }\n",
    "    }\n",
    "};"
   ]
  },
  {
   "cell_type": "code",
   "execution_count": null,
   "metadata": {},
   "outputs": [],
   "source": [
    "class Solution {\n",
    "public:\n",
    "    void InsertSort(vector<int>& nums) {\n",
    "        for(int i=1; i<nums.size(); i++){\n",
    "            if(nums[i-1]>nums[i]){\n",
    "            int key = nums[i]\n",
    "            int low=0, high=i-1, mid;\n",
    "            \n",
    "            //折半查找\n",
    "            while(low<=high){\n",
    "                mid = (low+high)/2;\n",
    "                if(nums[mid]>key){\n",
    "                    high = mid-1;\n",
    "                }\n",
    "                else{//当mid==key时，让low=mid+1，实现稳定\n",
    "                    low = mid+1;\n",
    "                }\n",
    "            }\n",
    "            \n",
    "            //移动元素\n",
    "            for(int j=i-1; j>=low; j--){\n",
    "                nums[j+1]=nums[j];\n",
    "            }\n",
    "            nums[low] = key;\n",
    "            }\n",
    "        }\n",
    "    }\n",
    "};"
   ]
  },
  {
   "cell_type": "code",
   "execution_count": 1,
   "metadata": {},
   "outputs": [],
   "source": [
    "//快速排序《数据结构》版\n",
    "#include<iostream>\n",
    "#include<vector>\n",
    "\n",
    "using namespace std;\n",
    "\n",
    "class Solution {\n",
    "public:\n",
    "    void QuickSort(vector<int> &nums, int low, int high){\n",
    "        if(low<high){//递归跳出条件，对于基础情况不需要操作的分治法必须设置跳出条件；\n",
    "            int pivotpos = Partition(nums, low, high);\n",
    "            QuickSort(nums, low, pivotpos-1);\n",
    "            QuickSort(nums, pivotpos+1, high);\n",
    "        }\n",
    "    }\n",
    "    int Partition(vector<int> &nums, int low, int high){\n",
    "        int pivot = nums[low];\n",
    "        while(low<high){\n",
    "            while(low<high && pivot<=nums[high]) high--;\n",
    "            nums[low]=nums[high];\n",
    "            while(low<high && nums[low]<=pivot) low++;\n",
    "            nums[high]=nums[low];\n",
    "        }\n",
    "        nums[low] = pivot;\n",
    "        return low;\n",
    "    }\n",
    "};"
   ]
  },
  {
   "cell_type": "code",
   "execution_count": 1,
   "metadata": {},
   "outputs": [],
   "source": [
    "//快速排序《算法导论》版\n",
    "#include<iostream>\n",
    "#include<vector>\n",
    "\n",
    "using namespace std;\n",
    "\n",
    "class Solution {\n",
    "public:\n",
    "    void QuickSort(vector<int> &nums, int low, int high){\n",
    "        if(low<high){//递归跳出条件，对于基础情况不需要操作的分治法必须设置跳出条件；\n",
    "            int pivotpos = Partition(nums, low, high);\n",
    "            QuickSort(nums, low, pivotpos-1);\n",
    "            QuickSort(nums, pivotpos+1, high);\n",
    "        }\n",
    "    }\n",
    "    int Partition(vector<int> &nums, int low, int high){\n",
    "        int pivot = nums[high];\n",
    "        int i=low-1, j;\n",
    "        for(j=low; j<high; j++){\n",
    "            if(nums[j]<pivot){\n",
    "                i++;\n",
    "                swap(nums[i], nums[j]);\n",
    "            }\n",
    "        }\n",
    "        swap(nums[i+1], nums[high]);\n",
    "        return i+1;\n",
    "    }\n",
    "};"
   ]
  },
  {
   "cell_type": "code",
   "execution_count": 2,
   "metadata": {},
   "outputs": [
    {
     "name": "stdout",
     "output_type": "stream",
     "text": [
      "1 2 3 3 3 4 4 5 6 7 7 8 8 9 \n"
     ]
    }
   ],
   "source": [
    "int main(){\n",
    "    Solution s;\n",
    "    vector<int>input{2,4,1,7,3,8,4,3,9,3,5,7,6,8};\n",
    "    s.QuickSort(input, 0, input.size()-1);\n",
    "    for(auto num:input) cout<<num<<\" \";\n",
    "    cout<<endl;\n",
    "    return 0;\n",
    "}\n",
    "main();"
   ]
  },
  {
   "cell_type": "code",
   "execution_count": 1,
   "metadata": {},
   "outputs": [],
   "source": [
    "//堆排序\n",
    "#include<iostream>\n",
    "#include<vector>\n",
    "\n",
    "using namespace std;\n",
    "\n",
    "\n",
    "class Solution {\n",
    "public:\n",
    "    void BuildMaxHeap(vector<int> &nums){\n",
    "        for(int i = nums.size()/2-1; i>=0; i--){//i为所有需要下坠的非终端结点,从后向前初始值为n/2-1，0也必须包括，因为0也是\n",
    "            HeadAdjust(nums, i, nums.size());\n",
    "        }\n",
    "        return;\n",
    "    }\n",
    "    void HeadAdjust(vector<int> &nums, int k, int n){//数组nums，以待调整元素为根的子树的根节点下标k，堆元素个数heapsize\n",
    "        for(int i=2*k+1; i<n; i=2*i+1){//下标i指向最大的孩子结点\n",
    "            if(i+1<n && nums[i]<nums[i+1])\n",
    "                i++;\n",
    "            if(nums[k]>=nums[i]) break;\n",
    "            else{\n",
    "                swap(nums[i],nums[k]);\n",
    "                k=i;\n",
    "            }\n",
    "        }\n",
    "    }\n",
    "    void HeapSort(vector<int> &nums){\n",
    "        BuildMaxHeap(nums);\n",
    "        for(int i=nums.size(); i>1; i--){//这里只需要排n-1次，堆中只剩1个元素时自然有序\n",
    "            swap(nums[0],nums[i-1]);\n",
    "            HeadAdjust(nums, 0, i-1);\n",
    "        }\n",
    "    }\n",
    "};"
   ]
  },
  {
   "cell_type": "code",
   "execution_count": 2,
   "metadata": {},
   "outputs": [
    {
     "name": "stdout",
     "output_type": "stream",
     "text": [
      "1 2 3 3 3 4 4 5 6 7 7 8 8 9 \n"
     ]
    }
   ],
   "source": [
    "int main(){\n",
    "    Solution s;\n",
    "    vector<int>input{2,4,1,7,3,8,4,3,9,3,5,7,6,8};\n",
    "    s.HeapSort(input);\n",
    "    for(auto num:input) cout<<num<<\" \";\n",
    "    cout<<endl;\n",
    "    return 0;\n",
    "}\n",
    "main();"
   ]
  },
  {
   "cell_type": "code",
   "execution_count": 1,
   "metadata": {},
   "outputs": [],
   "source": [
    "//优先队列\n",
    "#include<iostream>\n",
    "#include<vector>\n",
    "\n",
    "using namespace std;\n",
    "\n",
    "\n",
    "class Solution {\n",
    "public:\n",
    "    void BuildMaxHeap(vector<int> &nums){\n",
    "        for(int i = nums.size()/2-1; i>=0; i--){//i为所有需要下坠的非终端结点,从后向前初始值为n/2-1，0也必须包括，因为0也是\n",
    "            HeadAdjust(nums, i, nums.size());\n",
    "        }\n",
    "        return;\n",
    "    }\n",
    "    void HeadAdjust(vector<int> &nums, int k, int n){//数组nums，以待调整元素为根的子树的根节点下标k，堆元素个数heapsize\n",
    "        for(int i=2*k+1; i<n; i=2*i+1){//下标i指向最大的孩子结点\n",
    "            if(i+1<n && nums[i]<nums[i+1])\n",
    "                i++;\n",
    "            if(nums[k]>=nums[i]) break;\n",
    "            else{\n",
    "                swap(nums[i],nums[k]);\n",
    "                k=i;\n",
    "            }\n",
    "        }\n",
    "    }\n",
    "    void Insert(vector<int> &nums, int x){\n",
    "        nums.push_back(x);\n",
    "        int k = nums.size()-1;//记录插入元素位置\n",
    "        if(nums.size()==1) return;\n",
    "        for(int p=(k+1)/2-1; p>=0; p=(p+1)/2-1){//p指向插入元素的父结点，不断上升\n",
    "            if(nums[k]<=nums[p]) break;\n",
    "            else{\n",
    "                swap(nums[p],nums[k]);\n",
    "                k=p;\n",
    "            }\n",
    "        }\n",
    "    }\n",
    "    int Maximum(vector<int> &nums){\n",
    "        return nums[0];\n",
    "    }\n",
    "    int ExtractMaximum(vector<int> &nums){\n",
    "        if(nums.size()==0) return false;\n",
    "        int key =  nums[0];\n",
    "        swap(nums[0],nums.back());\n",
    "        nums.pop_back();\n",
    "        HeadAdjust(nums, 0, nums.size());\n",
    "        return key;\n",
    "    }\n",
    "    void IncreaseKey(vector<int> &nums, int k, int x){\n",
    "        if(k>nums.size()-1) return false;//k为待调整结点序号\n",
    "        if(x<nums[k]) return false;//x为调整后的大小\n",
    "        nums[k]=x;\n",
    "        for(int p=(k+1)/2-1; p>=0; p=(p+1)/2-1){//p指向插入元素的父结点，不断上升\n",
    "            if(nums[k]<=nums[p]) break;\n",
    "            else{\n",
    "                swap(nums[p],nums[k]);\n",
    "                k=p;\n",
    "            }\n",
    "        }\n",
    "    }\n",
    "};"
   ]
  },
  {
   "cell_type": "code",
   "execution_count": 2,
   "metadata": {
    "scrolled": true
   },
   "outputs": [
    {
     "name": "stdout",
     "output_type": "stream",
     "text": [
      "11 9 10 6 8 5 4 0 3 2 7 1 \n",
      "18 9 11 6 8 10 4 0 3 2 7 5 \n",
      "18\n",
      "11\n",
      "10\n",
      "9\n",
      "8\n",
      "7\n",
      "6\n",
      "5\n",
      "4\n",
      "3\n",
      "2\n",
      "0\n"
     ]
    }
   ],
   "source": [
    "int main(){\n",
    "    Solution s;\n",
    "    vector<int>input;\n",
    "    for(int i=0; i<12; i++){\n",
    "        s.Insert(input,i);\n",
    "    }\n",
    "    for(auto num:input) cout<<num<<\" \";\n",
    "    cout<<endl;\n",
    "    s.IncreaseKey(input, input.size()-1, 18);\n",
    "    for(auto num:input) cout<<num<<\" \";\n",
    "    cout<<endl;\n",
    "    for(auto num:input)\n",
    "        cout<<s.ExtractMaximum(input)<<endl;\n",
    "    return 0;\n",
    "}\n",
    "main();"
   ]
  },
  {
   "cell_type": "code",
   "execution_count": 1,
   "metadata": {},
   "outputs": [],
   "source": [
    "//计数排序\n",
    "#include<iostream>\n",
    "#include<vector>\n",
    "\n",
    "using namespace std;\n",
    "\n",
    "class Solution {\n",
    "public:\n",
    "    void CountingSort(vector<int> &nums){\n",
    "        vector<int>C(10,0);//C存放各数字的个数\n",
    "        vector<int>B(nums.size(),0);//存放调整后的数字\n",
    "        for(auto num:nums){\n",
    "            C[num]++;\n",
    "        }\n",
    "        for(int i=1; i<C.size(); i++){\n",
    "            C[i]=C[i]+C[i-1];\n",
    "        }\n",
    "        for(int i=nums.size()-1; i>=0; i--){\n",
    "            B[C[nums[i]]-1]=nums[i];//从0开始的话要在C[i]-1\n",
    "            C[nums[i]]--;\n",
    "        }\n",
    "        for(auto num:B) cout<<num<<\" \";\n",
    "        cout<<endl;\n",
    "    }\n",
    "};"
   ]
  },
  {
   "cell_type": "code",
   "execution_count": 2,
   "metadata": {},
   "outputs": [
    {
     "name": "stdout",
     "output_type": "stream",
     "text": [
      "0 1 2 3 3 4 4 5 6 7 7 8 8 9 \n"
     ]
    }
   ],
   "source": [
    "int main(){\n",
    "    Solution s;\n",
    "    vector<int>input{2,4,1,7,0,8,4,3,9,3,5,7,6,8};\n",
    "    s.CountingSort(input);\n",
    "    return 0;\n",
    "}\n",
    "main();"
   ]
  },
  {
   "cell_type": "code",
   "execution_count": 3,
   "metadata": {},
   "outputs": [
    {
     "data": {
      "text/plain": [
       "1052678032"
      ]
     },
     "execution_count": 3,
     "metadata": {},
     "output_type": "execute_result"
    }
   ],
   "source": [
    "rand()"
   ]
  },
  {
   "cell_type": "code",
   "execution_count": 4,
   "metadata": {},
   "outputs": [
    {
     "data": {
      "text/plain": [
       "2147483647"
      ]
     },
     "execution_count": 4,
     "metadata": {},
     "output_type": "execute_result"
    }
   ],
   "source": [
    "RAND_MAX"
   ]
  },
  {
   "cell_type": "code",
   "execution_count": 6,
   "metadata": {},
   "outputs": [
    {
     "data": {
      "text/plain": [
       "31.000000"
      ]
     },
     "execution_count": 6,
     "metadata": {},
     "output_type": "execute_result"
    }
   ],
   "source": [
    "#include<cmath>\n",
    "log(RAND_MAX)/log(2)"
   ]
  },
  {
   "cell_type": "code",
   "execution_count": 19,
   "metadata": {},
   "outputs": [
    {
     "name": "stdout",
     "output_type": "stream",
     "text": [
      "3 3 0 6 1 5 1 7 6 5 5 3 0 0 3 3 4 5 8 9 1 6 0 2 3 1 7 7 1 5 3 6 8 3 8 4 6 9 0 6 6 5 6 2 9 0 9 0 7 2 2 3 8 8 0 8 9 8 7 5 5 6 4 5 6 3 5 9 8 9 2 8 6 2 4 7 3 0 4 9 5 4 5 7 7 1 2 9 7 9 1 5 3 8 7 0 1 4 1 2 0 6 6 9 5 3 9 1 0 2 6 1 3 5 3 9 7 0 4 9 3 0 0 3 6 2 1 6 1 0 1 4 4 5 1 4 7 6 8 5 0 6 5 8 0 8 7 3 7 1 3 8 1 5 4 6 0 3 5 8 7 7 1 8 2 1 4 7 8 9 6 8 5 6 8 0 6 2 4 3 7 3 3 2 5 7 3 6 9 3 2 7 2 2 8 4 6 8 7 3 3 0 2 2 8 3 4 5 4 2 5 0 9 7 4 8 3 2 4 1 4 6 0 5 7 4 1 7 0 2 4 9 3 3 9 5 4 6 3 5 9 4 7 9 8 6 5 6 4 7 2 4 2 1 5 2 3 5 7 8 3 3 5 3 8 9 8 8 5 8 7 5 7 3 6 0 2 8 6 0 8 0 7 5 2 0 5 2 6 0 4 5 5 1 6 5 8 7 8 4 "
     ]
    }
   ],
   "source": [
    "for(int i=0; i<300; i++){\n",
    "    srand(i);\n",
    "    cout<<rand()%10<<\" \";\n",
    "}"
   ]
  },
  {
   "cell_type": "code",
   "execution_count": 1,
   "metadata": {},
   "outputs": [],
   "source": [
    "int same(const int && num){\n",
    "    return num;\n",
    "}"
   ]
  },
  {
   "cell_type": "code",
   "execution_count": 4,
   "metadata": {
    "scrolled": true
   },
   "outputs": [
    {
     "name": "stdout",
     "output_type": "stream",
     "text": [
      "1"
     ]
    }
   ],
   "source": [
    "#include<iostream>\n",
    "using namespace std;\n",
    "cout<<same(1);"
   ]
  },
  {
   "cell_type": "code",
   "execution_count": null,
   "metadata": {},
   "outputs": [],
   "source": [
    "#include<algorithm>\n",
    "\n",
    "template<typename Object>\n",
    "class Vector\n",
    "{\n",
    "    public:\n",
    "    //Vector的构造函数\n",
    "    explicit Vector(int initSize = 0):theSize{initSize},\n",
    "        theCapacity{initSize + SPARE_CAPACITY}\n",
    "        {objects = new Object[ theCapacity];}\n",
    "    private:\n",
    "    int theSize;//顺序表大小（元素个数？）\n",
    "    int the Capacity;//顺序表容量\n",
    "    Object *object;//存储元素？\n",
    "}"
   ]
  },
  {
   "cell_type": "code",
   "execution_count": 2,
   "metadata": {},
   "outputs": [],
   "source": [
    "#include<iostream>\n",
    "using namespace std;"
   ]
  },
  {
   "cell_type": "code",
   "execution_count": 3,
   "metadata": {},
   "outputs": [],
   "source": [
    "string test(){\n",
    "    return {\"123\",\"321\"};\n",
    "}"
   ]
  },
  {
   "cell_type": "code",
   "execution_count": 4,
   "metadata": {},
   "outputs": [
    {
     "name": "stdout",
     "output_type": "stream",
     "text": [
      "123\u0000\n"
     ]
    }
   ],
   "source": [
    "cout<<test()<<endl;"
   ]
  },
  {
   "cell_type": "code",
   "execution_count": null,
   "metadata": {},
   "outputs": [],
   "source": []
  }
 ],
 "metadata": {
  "kernelspec": {
   "display_name": "C++11",
   "language": "C++11",
   "name": "xcpp11"
  },
  "language_info": {
   "codemirror_mode": "text/x-c++src",
   "file_extension": ".cpp",
   "mimetype": "text/x-c++src",
   "name": "c++",
   "version": "11"
  }
 },
 "nbformat": 4,
 "nbformat_minor": 4
}
