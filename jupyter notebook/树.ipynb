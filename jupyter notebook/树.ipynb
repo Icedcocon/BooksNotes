{
 "cells": [
  {
   "cell_type": "code",
   "execution_count": 1,
   "metadata": {},
   "outputs": [],
   "source": [
    "#include<iostream>\n",
    "#include<vector>\n",
    "#include<deque>\n",
    "\n",
    "using namespace std;"
   ]
  },
  {
   "cell_type": "code",
   "execution_count": 2,
   "metadata": {},
   "outputs": [],
   "source": [
    "//二叉树\n",
    "struct TreeNode {\n",
    "    int val;\n",
    "    TreeNode *left;\n",
    "    TreeNode *right;\n",
    "    TreeNode() : val(0), left(nullptr), right(nullptr) {}\n",
    "    TreeNode(int x) : val(x), left(nullptr), right(nullptr) {}\n",
    "    TreeNode(int x, TreeNode *left, TreeNode *right) : val(x), left(left), right(right) {}\n",
    "};"
   ]
  },
  {
   "cell_type": "code",
   "execution_count": 3,
   "metadata": {},
   "outputs": [],
   "source": [
    "//层序遍历二叉树输出\n",
    "void levelOrder(TreeNode* const root)\n",
    "{\n",
    "    deque<TreeNode*> temp;\n",
    "    temp.push_back(root);\n",
    "    while(!temp.empty())\n",
    "    {\n",
    "        if(temp.front()==nullptr)\n",
    "        {\n",
    "            cout<<\"null \";\n",
    "            temp.pop_front();\n",
    "            continue;\n",
    "        }\n",
    "        temp.push_back(temp.front()->left);\n",
    "        temp.push_back(temp.front()->right);\n",
    "        cout<<temp.front()->val<<\" \";\n",
    "        temp.pop_front();\n",
    "    }\n",
    "}"
   ]
  },
  {
   "cell_type": "code",
   "execution_count": 4,
   "metadata": {},
   "outputs": [],
   "source": [
    "/**\n",
    " * Definition for a binary tree node.\n",
    " * struct TreeNode {\n",
    " *     int val;\n",
    " *     TreeNode *left;\n",
    " *     TreeNode *right;\n",
    " *     TreeNode(int x) : val(x), left(NULL), right(NULL) {}\n",
    " * };\n",
    " */\n",
    "namespace offer07_buildTree\n",
    "{\n",
    "    class Solution {\n",
    "    public:\n",
    "        TreeNode* buildTree(vector<int>& preorder, vector<int>& inorder) {\n",
    "            int preorder_root=0;\n",
    "            return mybuildTree(preorder, inorder,preorder_root, 0, inorder.size()-1);\n",
    "        }\n",
    "    TreeNode* mybuildTree(vector<int>& preorder, vector<int>& inorder,int& preorder_root, int low, int high) {\n",
    "            if(low>high)\n",
    "                return nullptr;\n",
    "    \n",
    "            // 先把根节点建立出来\n",
    "            TreeNode* root = new TreeNode(preorder[preorder_root]);\n",
    "    \n",
    "            //在inorder中找到根\n",
    "            int inorder_root=0;\n",
    "            while(preorder[preorder_root] != inorder[inorder_root])\n",
    "                inorder_root++;\n",
    "    \n",
    "            //指向先序遍历序列下一节点，寻找左右孩子\n",
    "            preorder_root++;\n",
    "    \n",
    "            //判断有无左孩子\n",
    "            if(inorder_root>low){//有左孩子\n",
    "                root->left=mybuildTree(preorder,inorder,preorder_root, low, inorder_root-1);\n",
    "            }\n",
    "    \n",
    "            //判断有无右孩子\n",
    "            if(inorder_root<high){//有左孩子\n",
    "                root->right=mybuildTree(preorder,inorder,preorder_root, inorder_root+1, high);\n",
    "            }\n",
    "            return root;\n",
    "        }\n",
    "    };\n",
    "}"
   ]
  },
  {
   "cell_type": "code",
   "execution_count": 5,
   "metadata": {},
   "outputs": [
    {
     "name": "stdout",
     "output_type": "stream",
     "text": [
      "3 9 20 null null 15 7 null null null null "
     ]
    }
   ],
   "source": [
    "//测试\n",
    "offer07_buildTree::Solution s1;\n",
    "vector<int> preorder{3,9,20,15,7};\n",
    "vector<int> inorder{9,3,15,20,7};\n",
    "levelOrder(s1.buildTree(preorder, inorder))"
   ]
  },
  {
   "cell_type": "code",
   "execution_count": 1,
   "metadata": {},
   "outputs": [],
   "source": [
    "#include<unordered_map>\n",
    "#include<vector>\n",
    "#include<iostream>\n",
    "using namespace std;"
   ]
  },
  {
   "cell_type": "code",
   "execution_count": 4,
   "metadata": {},
   "outputs": [
    {
     "name": "stdout",
     "output_type": "stream",
     "text": [
      "0"
     ]
    }
   ],
   "source": [
    "vector<vector<int>> temp(10);\n",
    "cout<<temp[0].size();"
   ]
  },
  {
   "cell_type": "code",
   "execution_count": null,
   "metadata": {},
   "outputs": [],
   "source": [
    "char temp='A';\n"
   ]
  }
 ],
 "metadata": {
  "kernelspec": {
   "display_name": "C++11",
   "language": "C++11",
   "name": "xcpp11"
  },
  "language_info": {
   "codemirror_mode": "text/x-c++src",
   "file_extension": ".cpp",
   "mimetype": "text/x-c++src",
   "name": "c++",
   "version": "11"
  }
 },
 "nbformat": 4,
 "nbformat_minor": 4
}
