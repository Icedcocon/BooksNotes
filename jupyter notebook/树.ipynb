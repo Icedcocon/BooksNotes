{
 "cells": [
  {
   "cell_type": "code",
   "execution_count": 1,
   "metadata": {},
   "outputs": [],
   "source": [
    "#include<iostream>\n",
    "#include<vector>\n",
    "#include<deque>\n",
    "\n",
    "using namespace std;"
   ]
  },
  {
   "cell_type": "code",
   "execution_count": 2,
   "metadata": {},
   "outputs": [],
   "source": [
    "//二叉树\n",
    "struct TreeNode {\n",
    "    int val;\n",
    "    TreeNode *left;\n",
    "    TreeNode *right;\n",
    "    int ltag,rtag;\n",
    "    TreeNode() : val(0), left(nullptr), right(nullptr),ltag(0),rtag(0) {}\n",
    "    TreeNode(int x) : val(x), left(nullptr), right(nullptr),ltag(0),rtag(0) {}\n",
    "    TreeNode(int x, TreeNode *left, TreeNode *right) : val(x), left(left), right(right),ltag(0),rtag(0) {}\n",
    "};"
   ]
  },
  {
   "cell_type": "code",
   "execution_count": 3,
   "metadata": {},
   "outputs": [],
   "source": [
    "//层序遍历二叉树输出\n",
    "void levelOrder(TreeNode* const root)\n",
    "{\n",
    "    deque<TreeNode*> temp;\n",
    "    temp.push_back(root);\n",
    "    while(!temp.empty())\n",
    "    {\n",
    "        if(temp.front()==nullptr)\n",
    "        {\n",
    "            cout<<\"null \";\n",
    "            temp.pop_front();\n",
    "            continue;\n",
    "        }\n",
    "        temp.push_back(temp.front()->left);\n",
    "        temp.push_back(temp.front()->right);\n",
    "        cout<<temp.front()->val<<\" \";\n",
    "        temp.pop_front();\n",
    "    }\n",
    "}"
   ]
  },
  {
   "cell_type": "code",
   "execution_count": null,
   "metadata": {},
   "outputs": [],
   "source": [
    "//二叉树中序线索化\n",
    "void createInThread(TreeNode* const root)\n",
    "{\n",
    "    TreeNode* const pre=nullptr;\n",
    "    if(root != nullptr)\n",
    "    {\n",
    "        inThread(root, pre);//线索化二叉树\n",
    "        pre->left=nullptr;\n",
    "        pre->rtag=1;//将最后一个结点线索化\n",
    "    }\n",
    "}\n",
    "void inThread(TreeNode* const p, TreeNode* const pre)\n",
    "{\n",
    "    inThread(p->left, pre);\n",
    "    if(p->left == nullptr)//左子树为空建立前驱线索\n",
    "    {\n",
    "        p->left=pre;\n",
    "        pre->ltag=1;\n",
    "    }\n",
    "    if(pre!=nullptr && pre->right==nullptr)//建立前驱结点的后继线索\n",
    "    {                         //最后一个结点的后继线索不会在递归中建立\n",
    "        pre->right=p;\n",
    "        pre->rtag=1;\n",
    "    }\n",
    "    pre = p;//标记当前结点为刚刚访问过的结点，pre最终会指向最后一个结点\n",
    "    inThread(p->right, pre);\n",
    "}"
   ]
  },
  {
   "cell_type": "code",
   "execution_count": null,
   "metadata": {},
   "outputs": [],
   "source": [
    "//找中序序列下第一个结点\n",
    "TreeNode* Firstnode(TreeNode* p){\n",
    "    while(p->ltag==0) p=p->left;\n",
    "    return p;\n",
    "}\n",
    "//找结点p在中序序列下的后继\n",
    "TreeNode* Nextnode(TreeNode* p){\n",
    "    if(p->rtag==0) return Firstnode(p->right);\n",
    "    else return p->right//rtag==1直接返回后继线索\n",
    "}\n",
    "//中序线索二叉树中序遍历\n",
    "void Inorder(TreeNode* root){\n",
    "    for(TreeNode* p=Firstnode(root); p!=nullptr; p=Nextnode(p))\n",
    "        visit(p);\n",
    "}"
   ]
  },
  {
   "cell_type": "code",
   "execution_count": 4,
   "metadata": {},
   "outputs": [],
   "source": [
    "/**\n",
    " * Definition for a binary tree node.\n",
    " * struct TreeNode {\n",
    " *     int val;\n",
    " *     TreeNode *left;\n",
    " *     TreeNode *right;\n",
    " *     TreeNode(int x) : val(x), left(NULL), right(NULL) {}\n",
    " * };\n",
    " */\n",
    "namespace offer07_buildTree\n",
    "{\n",
    "    class Solution {\n",
    "    public:\n",
    "        TreeNode* buildTree(vector<int>& preorder, vector<int>& inorder) {\n",
    "            int preorder_root=0;\n",
    "            return mybuildTree(preorder, inorder,preorder_root, 0, inorder.size()-1);\n",
    "        }\n",
    "        TreeNode* mybuildTree(vector<int>& preorder, vector<int>& inorder,int& preorder_root, int low, int high) {\n",
    "            if(low>high)\n",
    "                return nullptr;\n",
    "            TreeNode* root = new TreeNode(preorder[preorder_root]);// 先把根节点建立出来\n",
    "            int inorder_root=0;\n",
    "            while(preorder[preorder_root] != inorder[inorder_root])//在inorder中找到根\n",
    "                inorder_root++;\n",
    "            preorder_root++; //指向先序遍历序列下一节点，寻找左右孩子\n",
    "            if(inorder_root>low)//判断有无左孩子\n",
    "                root->left=mybuildTree(preorder,inorder,preorder_root, low, inorder_root-1);\n",
    "            if(inorder_root<high)//判断有无右孩子\n",
    "                root->right=mybuildTree(preorder,inorder,preorder_root, inorder_root+1, high);\n",
    "            return root;\n",
    "        }\n",
    "    };\n",
    "}"
   ]
  },
  {
   "cell_type": "code",
   "execution_count": 5,
   "metadata": {},
   "outputs": [
    {
     "name": "stdout",
     "output_type": "stream",
     "text": [
      "3 9 20 null null 15 7 null null null null "
     ]
    }
   ],
   "source": [
    "//测试\n",
    "offer07_buildTree::Solution s1;\n",
    "vector<int> preorder{3,9,20,15,7};\n",
    "vector<int> inorder{9,3,15,20,7};\n",
    "levelOrder(s1.buildTree(preorder, inorder))"
   ]
  },
  {
   "cell_type": "code",
   "execution_count": 1,
   "metadata": {},
   "outputs": [],
   "source": [
    "#include<unordered_map>\n",
    "#include<vector>\n",
    "#include<iostream>\n",
    "using namespace std;"
   ]
  },
  {
   "cell_type": "code",
   "execution_count": 4,
   "metadata": {},
   "outputs": [
    {
     "name": "stdout",
     "output_type": "stream",
     "text": [
      "0"
     ]
    }
   ],
   "source": [
    "vector<vector<int>> temp(10);\n",
    "cout<<temp[0].size();"
   ]
  },
  {
   "cell_type": "code",
   "execution_count": null,
   "metadata": {},
   "outputs": [],
   "source": [
    "char temp='A';\n"
   ]
  },
  {
   "cell_type": "code",
   "execution_count": 1,
   "metadata": {},
   "outputs": [],
   "source": [
    "#include<iostream>\n",
    "#include<set>\n",
    "using namespace std;"
   ]
  },
  {
   "cell_type": "code",
   "execution_count": 2,
   "metadata": {},
   "outputs": [
    {
     "name": "stdout",
     "output_type": "stream",
     "text": [
      "0\n",
      "1\n",
      "0\n"
     ]
    }
   ],
   "source": [
    "set<int *> temp;\n",
    "cout<<temp.size()<<endl;\n",
    "temp.insert(nullptr);\n",
    "cout<<temp.size()<<endl;\n",
    "temp.erase(nullptr);\n",
    "cout<<temp.size()<<endl;"
   ]
  },
  {
   "cell_type": "code",
   "execution_count": 3,
   "metadata": {},
   "outputs": [
    {
     "name": "stdout",
     "output_type": "stream",
     "text": [
      "8"
     ]
    },
    {
     "data": {
      "text/plain": [
       "@0x7f5e215bbb60"
      ]
     },
     "execution_count": 3,
     "metadata": {},
     "output_type": "execute_result"
    }
   ],
   "source": [
    "cout<<sizeof(char*)"
   ]
  },
  {
   "cell_type": "code",
   "execution_count": null,
   "metadata": {},
   "outputs": [],
   "source": []
  }
 ],
 "metadata": {
  "kernelspec": {
   "display_name": "C++11",
   "language": "C++11",
   "name": "xcpp11"
  },
  "language_info": {
   "codemirror_mode": "text/x-c++src",
   "file_extension": ".cpp",
   "mimetype": "text/x-c++src",
   "name": "c++",
   "version": "11"
  }
 },
 "nbformat": 4,
 "nbformat_minor": 4
}
